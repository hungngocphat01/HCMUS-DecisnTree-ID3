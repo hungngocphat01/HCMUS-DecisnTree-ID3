{
 "cells": [
  {
   "cell_type": "markdown",
   "id": "3b9ca58e",
   "metadata": {
    "id": "3b9ca58e"
   },
   "source": [
    "# Đồ án 03: Phân lớp và Gom nhóm\n",
    "\n",
    "- Họ tên: Hùng Ngọc Phát\n",
    "- MSSV: 19120615"
   ]
  },
  {
   "cell_type": "markdown",
   "id": "9fcb7960",
   "metadata": {
    "deletable": false,
    "editable": false,
    "id": "9fcb7960",
    "nbgrader": {
     "cell_type": "markdown",
     "checksum": "82dc970622d3c0febfee4cee8df683fb",
     "grade": false,
     "grade_id": "project_content",
     "locked": true,
     "schema_version": 3,
     "solution": false,
     "task": false
    }
   },
   "source": [
    "## Nội dung đồ án\n",
    "\n",
    "Đồ án này hướng đến việc giúp các bạn thực hành và kiểm tra kiến thức về các thuật toán Phân lớp và Gom nhóm đã được học trong môn Khai thác Dữ liệu và Ứng dụng. \n",
    "\n",
    "Nội dung của đồ án này bao gồm:\n",
    "\n",
    "- Phân lớp dữ liệu nhị phân với Cây quyết định sử dụng thuật toán ID3\n",
    "- Gom nhóm dữ liệu với thuật toán k-means clustering\n"
   ]
  },
  {
   "cell_type": "markdown",
   "id": "XHGUv7o9ajw0",
   "metadata": {
    "deletable": false,
    "editable": false,
    "id": "XHGUv7o9ajw0",
    "nbgrader": {
     "cell_type": "markdown",
     "checksum": "3b785e40de1f2e077f34fc63b7945b7e",
     "grade": false,
     "grade_id": "project_instruction",
     "locked": true,
     "schema_version": 3,
     "solution": false,
     "task": false
    }
   },
   "source": [
    "## Hướng dẫn làm bài\n",
    "\n",
    "Các bạn cần hoàn thành đồ án bằng cách điền vào các ô code có ```YOUR CODE HERE``` hoặc các ô text có ```Your answer here``` \n",
    "\n",
    "<font color='red'>**LƯU Ý:**</font>\n",
    "\n",
    "- Bài làm của sinh viên phải do chính bản thân sinh viên tự làm, có thể trao đổi và tham khảo ý tưởng nhưng không được sao chép (một phần hoặc toàn bộ) code hoặc lời giải từ bất cứ người nào khác. Nếu vi phạm sẽ bị <font color='red'>0đ</font> bài tập này.\n",
    "- Các bạn có thể tạo thêm các cell trong quá trình code, tuy nhiên các bạn vui lòng <font color='red'>không xóa các cell code mặc định và các cell test case</font> (vì có thể ảnh hưởng đến kết quả khi chấm bài).\n",
    "- Các test case (nếu có) được đưa ra chỉ nhằm mục đích giúp các bạn test code của mình, việc pass các test case này không đồng nghĩa với việc lời giải của các bạn sẽ đạt điểm tối đa. "
   ]
  },
  {
   "cell_type": "markdown",
   "id": "e0e36d4a",
   "metadata": {
    "deletable": false,
    "editable": false,
    "id": "e0e36d4a",
    "nbgrader": {
     "cell_type": "markdown",
     "checksum": "6423679f1a3889c5b6bbe7cbb9316cc6",
     "grade": false,
     "grade_id": "project_submission",
     "locked": true,
     "schema_version": 3,
     "solution": false,
     "task": false
    }
   },
   "source": [
    "## Hướng dẫn nộp bài\n",
    "\n",
    "Khi chấm bài, đầu tiên mình sẽ chọn `Kernel` - `Restart Kernel & Run All Cells`, để restart và chạy tất cả các cell trong notebook của các bạn; do đó, trước khi nộp bài, các bạn nên chạy thử `Kernel` - `Restart Kernel & Run All Cells` để đảm bảo mọi chuyện diễn ra đúng như mong đợi.\n",
    "\n",
    "Sau đó, các bạn tạo thư mục nộp bài theo cấu trúc sau:\n",
    "\n",
    "- Thư mục `MSSV` (vd, nếu bạn có MSSV là 191235 thì bạn đặt tên thư mục là `191235`)\n",
    "    - ```data```: thư mục chứa các dữ liệu được cung cấp (và dữ liệu do bạn tìm thêm)\n",
    "    - ```[Lab 03 - Data Mining] Classification & Clustering.ipynb```: file bài làm của các bạn\n",
    "\n",
    "Cuối cùng, các bạn nén thư mục `MSSV` này lại và nộp ở link trên moodle **(Đuôi của file nén phải là .zip)**\n",
    "\n",
    "<font color=red>Các bạn lưu ý tuân thủ chính xác qui định nộp bài ở trên.</font>\n",
    "\n",
    "\n",
    "- Mọi thắc mắc trong quá trình làm bài, các bạn có thể tham khảo và điền vào [file Q&A](https://docs.google.com/spreadsheets/d/1BlUqNSl4Yn7LY1tNUM4gSRK3CbD8ZPhp37GVWXt-wmE/edit?usp=sharing), hoặc gửi mail đến  trợ giảng *Nguyễn Duy Khánh* (duykhanhnguyen360@gmail.com)\n",
    "\n",
    "\n",
    "<center><font color='green'>CHÚC CÁC BẠN HOÀN THÀNH THẬT TỐT ĐỒ ÁN!</font></center>"
   ]
  },
  {
   "cell_type": "markdown",
   "id": "m2LENWZYHkli",
   "metadata": {
    "id": "m2LENWZYHkli"
   },
   "source": [
    "## Phần I: Phân lớp (7đ) + 1đ bonus"
   ]
  },
  {
   "cell_type": "markdown",
   "id": "An0DlQbBd1v_",
   "metadata": {
    "id": "An0DlQbBd1v_"
   },
   "source": [
    "### Yêu cầu"
   ]
  },
  {
   "cell_type": "markdown",
   "id": "Pgqzo20KivVh",
   "metadata": {
    "id": "Pgqzo20KivVh"
   },
   "source": [
    "Trong phần này, các bạn sẽ cần viết chương trình Python để cài đặt Cây quyết định sử dụng thuật toán ID3.\n",
    "\n",
    "Dữ liệu: \n",
    "\n",
    "- Với đồ án này, các bạn chỉ cần xây dựng mô hình cây quyết định với các thuộc tính phân loại (categorical), không cần xử lý thuộc tính số (numerical) (các bạn có thể chuyển các thuộc tính numerical trong input về dạng categorical trước khi đưa vào mô hình)\n",
    "- Mỗi điểm dữ liệu chỉ thuộc 1 trong 2 nhãn (label) cho trước (binary classification)\n",
    "- Tập dữ liệu sử dụng: [tennis.txt](https://drive.google.com/file/d/1jv67IlMIxGxwGGaP47AZ_1t3mxIn82Y7/view?usp=sharing) và [titanic2.txt](https://drive.google.com/file/d/1IwOxcPz-Hq1_JOOfGylJxy1TYhDvfEsg/view?usp=sharing)\n",
    "\n",
    "\n",
    "Các bạn cần cài đặt hàm load dữ liệu và mô hình Cây quyết định với các phương thức sau:\n",
    "\n",
    "- ```fit```: xây dựng cây từ dữ liệu huấn luyện theo thuật toán ID3\n",
    "- ```predict```: dự đoán trên các điểm dữ liệu mới sử dụng cấu trúc cây đã xây dựng được từ dữ liệu huấn luyện\n",
    "- ```visualize```: vẽ cây quyết định đã xây dựng được từ tập dữ liệu huấn luyện. Các bạn có thể visualize cây quyết định đã xây dựng theo cách các bạn muốn, miễn sao có thể thấy được cấu trúc của cây (có thể tự implement hoặc sử dụng các package có sẵn như ```tree```, ```graphviz```, ...).  Ví dụ các bạn có thể visualize cây quyết định xây dựng được từ tập [tennis.txt](https://drive.google.com/file/d/1jv67IlMIxGxwGGaP47AZ_1t3mxIn82Y7/view?usp=sharing) như sau:\n",
    "\n",
    "```\n",
    "outlook = sunny\n",
    "|  humidity = high: no\n",
    "|  humidity = normal: yes\n",
    "outlook = overcast: yes\n",
    "outlook = rainy\n",
    "|  windy = TRUE: no\n",
    "|  windy = FALSE: yes\n",
    "```\n",
    "\n",
    "**Note**:\n",
    "\n",
    "- Với tập [tennis.txt](https://drive.google.com/file/d/1jv67IlMIxGxwGGaP47AZ_1t3mxIn82Y7/view?usp=sharing), sử dụng toàn bộ các điểm dữ liệu để làm tập train, không cần chia ra tập train và test. Với tập [titanic2.txt](https://drive.google.com/file/d/1IwOxcPz-Hq1_JOOfGylJxy1TYhDvfEsg/view?usp=sharing), các bạn sẽ cần chia ra tập train/test với tỉ lệ 80/20 (sử dụng ```train_test_split``` của ```sklearn``` với ```random_state=42```)\n",
    "- Hàm load dữ liệu và mô hình cây quyết định chỉ cài đặt 1 lần và phải sử dụng được cho các tập dữ liệu khác nhau\n",
    "- Với mỗi tập dữ liệu, các bạn cần ```load_data``` từ file input, ```fit``` mô hình với dữ liệu train, sử dụng mô hình huấn luyện để ```predict``` trên ```X_train```, ```X_test``` (nếu có) và tính độ chính xác (sử dụng hàm ```accuracy_score``` của ```sklearn```), cuối cùng là ```visualize``` mô hình đã huấn luyện\n",
    "- Sẽ có tối đa 1đ cộng nếu các bạn tự tìm và thực hiện tất cả các yêu cầu trên với tập dữ liệu mới"
   ]
  },
  {
   "cell_type": "markdown",
   "id": "ilCuHgbkd6w1",
   "metadata": {
    "id": "ilCuHgbkd6w1"
   },
   "source": [
    "### Cài đặt (6.5đ)"
   ]
  },
  {
   "cell_type": "code",
   "execution_count": 1,
   "id": "RD-kfiMzJA2g",
   "metadata": {
    "id": "RD-kfiMzJA2g"
   },
   "outputs": [],
   "source": [
    "from copy import deepcopy\n",
    "import random\n",
    "import graphviz as gv\n",
    "import pandas as pd\n",
    "import numpy as np\n",
    "import matplotlib.pyplot as plt\n",
    "import sklearn\n",
    "from sklearn.metrics import accuracy_score\n",
    "from sklearn.model_selection import train_test_split\n",
    "from sklearn.preprocessing import MultiLabelBinarizer"
   ]
  },
  {
   "cell_type": "code",
   "execution_count": 2,
   "id": "RCUFoiMvAP3X",
   "metadata": {
    "deletable": false,
    "executionInfo": {
     "elapsed": 518,
     "status": "ok",
     "timestamp": 1639881846113,
     "user": {
      "displayName": "Khánh Nguyễn",
      "photoUrl": "https://lh3.googleusercontent.com/a-/AOh14GhW5QOJudmqsBqdJ5x2Hfp3zqPDQQRP2FGMhp4kpg=s64",
      "userId": "03950222018643951363"
     },
     "user_tz": -420
    },
    "id": "RCUFoiMvAP3X",
    "nbgrader": {
     "cell_type": "code",
     "checksum": "fcf3d778354bd11b9680231c3cfcf0de",
     "grade": false,
     "grade_id": "cell-f737deab76c4a037",
     "locked": false,
     "schema_version": 3,
     "solution": true,
     "task": false
    }
   },
   "outputs": [],
   "source": [
    "# 1đ\n",
    "\n",
    "# Data loading and categorization (if necessary)\n",
    " \n",
    "def load_data(file_path, split=True):\n",
    "    \"\"\"\n",
    "    Load data from file path and return numpy data.\n",
    "\n",
    "    Parameters\n",
    "    ----------\n",
    "    file_path : str\n",
    "        The path of input data file (tab separated).\n",
    "    split : bool\n",
    "        Whether or not to return test set.\n",
    "\n",
    "    Returns\n",
    "    -------\n",
    "    (X_train, y_train), (None, None): training numpy array if split = False, else\n",
    "    X_train, y_train, X_test, y_test: training and testing numpy array if split = True\n",
    "    \"\"\"    \n",
    "    df = pd.read_csv(file_path, sep='\\t')\n",
    "    df = df.astype(str)\n",
    "    X = df.iloc[:, 0:-1]\n",
    "    y = df.iloc[:, -1]\n",
    "    \n",
    "    if split:\n",
    "        X_train, X_test, y_train, y_test = train_test_split(X, y, random_state=42)\n",
    "        return X_train, y_train, X_test, y_test\n",
    "    return X, y"
   ]
  },
  {
   "cell_type": "code",
   "execution_count": 3,
   "id": "33678d89-f080-46d4-88d5-fe4dade26bd2",
   "metadata": {},
   "outputs": [],
   "source": [
    "class Node:\n",
    "    \"\"\"\n",
    "    A class representing a node in the decision tree.\n",
    "    \n",
    "    Supports more than 2 children.\n",
    "    Representing 2 children as an array also prettifies the code\n",
    "        without copy-pasting exactly same pieces of code for the left and right child.\n",
    "    \n",
    "    So consequentially, our tree can be n-ary (n can be > 2)!!! \n",
    "    \"\"\"\n",
    "    def __init__(self): \n",
    "        # Decision (class) of this node (if it is a leaf node)\n",
    "        self.decision = None \n",
    "        # List of rows which belong to this node (S set)\n",
    "        # Each element is a tuple (data, class), where `data` is `pd.Series` (one row in df)\n",
    "        self.items = list()\n",
    "        # List of links to its children\n",
    "        self.children = list()\n",
    "        # List of candidate attributes to take into account when splitting\n",
    "        self.candidate_attrs = list()\n",
    "        # Value of the split attribute of the parent node to jump into this node\n",
    "        self.jump_condition = None\n",
    "        # Node depth in tree (for prunning if needed)\n",
    "        self.depth = 0\n",
    "        # Split attribute of this node\n",
    "        self.split_attribute = None\n",
    "        # Reference to the original tree (to get model parameters)\n",
    "        self.tree = None\n",
    "    \n",
    "    \"\"\"\n",
    "    @property decorator treat hàm này như một attribute và sẽ giúp ta \n",
    "    tiết kiệm được dấu ngoặc () khi gọi hàm vì hàm này cũng không có tham số.\n",
    "    \"\"\"\n",
    "    @property\n",
    "    def is_leaf(self) -> bool:\n",
    "        \"\"\"\n",
    "        Check if this node is leaf node\n",
    "        \"\"\"\n",
    "        return (self.decision is not None)\n",
    "    \n",
    "    @property\n",
    "    def entropy(self) -> float:\n",
    "        \"\"\"\n",
    "        Calculate the entropy of this node\n",
    "        \"\"\"\n",
    "        # All classes of all items in this node\n",
    "        classes = np.array([c for (data, c) in self.items])\n",
    "        # Get counts\n",
    "        _, counts = np.unique(classes, return_counts=True)\n",
    "        # Calculate frequencies\n",
    "        frequencies = counts / len(self.items)\n",
    "        # Return the actual entropy\n",
    "        return -np.sum(frequencies * np.log2(frequencies))\n",
    "    \n",
    "    def generate_children_by_attr(self, attr: str):\n",
    "        \"\"\"\n",
    "        Set the split attribute of this node to `attr` and generate n children\n",
    "        where n is the number of values of attribute `attr` at this node.\n",
    "        \n",
    "        Parameters:\n",
    "        ----------\n",
    "            - `attr`: column (attribute) name.\n",
    "        \"\"\"\n",
    "        # \"Clear\"\n",
    "        self.children = list()\n",
    "        \n",
    "        # All values of `attr` in the S set of this node\n",
    "        self.split_attribute = attr\n",
    "        values = np.unique([row[attr] for row, _ in self.items])\n",
    "        # Shrink candidate attribute list\n",
    "        subnode_attrs = [a for a in self.candidate_attrs if a != attr]\n",
    "        \n",
    "        for value in values:\n",
    "            child = Node()\n",
    "            child.jump_condition = value\n",
    "            child.items = [(row, c) for (row, c) in self.items if row[attr] == value]\n",
    "            child.depth = self.depth + 1\n",
    "            child.candidate_attrs = deepcopy(subnode_attrs)\n",
    "            child.tree = self.tree\n",
    "            \n",
    "            # If there is no item in this child (rare condition): treat this child as a leaf node\n",
    "            # the class will be the major class of this node \n",
    "            if len(child.items) == 0:\n",
    "                child.decision = self.major_class\n",
    "                \n",
    "            self.children.append(child)\n",
    "    \n",
    "    @property\n",
    "    def major_class(self) -> str:\n",
    "        \"\"\"\n",
    "        Return the major class of this node, which is the class that is owned by\n",
    "        the majority of items in this node.\n",
    "        \"\"\"\n",
    "        classes, counts = np.unique([c for (row, c) in self.items], return_counts=True)\n",
    "        \n",
    "        mapping = {cl: count for (cl, count) in zip(classes, counts)}\n",
    "        return max(classes, key=lambda cl: mapping[cl])\n",
    "    \n",
    "    @property\n",
    "    def is_pure(self) -> bool:\n",
    "        \"\"\"\n",
    "        Check if current node is pure.\n",
    "        A node is pure when all of its items belong to only one class.\n",
    "        If this node is not pure but we have ran out of candidate attributes\n",
    "        to further split this node, we will \"pretend\" as if it is pure. \n",
    "\n",
    "        This function will also set `self.decision` to the appropiate value\n",
    "        in case this node is pure.\n",
    "        \"\"\"\n",
    "        classes, counts = np.unique([c for (row, c) in self.items], return_counts=True)\n",
    "        \n",
    "        # If node is pure\n",
    "        if len(classes) == 1:\n",
    "            self.decision = classes[0]\n",
    "            return True\n",
    "        # If node is not pure but we had ran out of candidate columns\n",
    "        # Also check for pre-pruning condition\n",
    "        # I will explain why I implement pruning later (not required in this project)\n",
    "        elif len(self.candidate_attrs) == 0 or self.depth > self.tree.max_depth:\n",
    "            self.decision = self.major_class\n",
    "            # Pretend as if this node is pure\n",
    "            return True\n",
    "        return False\n",
    "    \n",
    "    def get_info_gain(self, attr: str) -> float:\n",
    "        \"\"\"\n",
    "        Calculate the information gain of this node against a specific attribute.\n",
    "        Gain(S, A) = Entropy(S) - sum{ |Sv|/|S| * Entropy(Sv) | v in A }\n",
    "        \n",
    "        Parameters:\n",
    "        ----------\n",
    "            - `attr`: attribute against which we calculate the info gain.\n",
    "        Return:\n",
    "        ------\n",
    "            - Info gain of this node respecting to `attr`.\n",
    "        \"\"\"\n",
    "        values = np.unique([row[attr] for row, _ in self.items])\n",
    "        \n",
    "        # Calculate the weighted entropy of this node (given that we are splitting using `attr`)\n",
    "        weighted_entropy = 0\n",
    "        for value in values:\n",
    "            temp_node = Node()\n",
    "            temp_node.items = [(row, c) for (row, c) in self.items if row[attr] == value]\n",
    "            weighted_entropy += (len(temp_node.items) / len(self.items)) * temp_node.entropy\n",
    "        return self.entropy - weighted_entropy\n",
    "    \n",
    "    def grow_subtree(self):\n",
    "        \"\"\"\n",
    "        Recursively build the decision tree using the ID3 algorithm\n",
    "        This is the \"real\" ID3 function.\n",
    "        \n",
    "        I had to split this into a separated function from DecisionTree.fit\n",
    "        because I implemented this in a recursive way.\n",
    "        \"\"\"\n",
    "        # Stop conditions\n",
    "        if self.is_leaf:\n",
    "            return \n",
    "        \n",
    "        # Calculate information gain of current node against all candidate attributes\n",
    "        gains = {attr: self.get_info_gain(attr) for attr in self.candidate_attrs}\n",
    "        \n",
    "        # Best attribute: attribute with highest gain\n",
    "        best_attr = max(gains, key=lambda attr: gains[attr])\n",
    "        \n",
    "        # Build child nodes for this node using the just found best attribute\n",
    "        self.generate_children_by_attr(best_attr)\n",
    "        \n",
    "        # Recursively build the subtree at each child of this node\n",
    "        for child in self.children:\n",
    "            if not child.is_pure:\n",
    "                child.grow_subtree()\n",
    "    \n",
    "    def predict(self, x_test: pd.Series):\n",
    "        \"\"\"\n",
    "        Function to predict the class of a new test example.\n",
    "\n",
    "        Parameters:\n",
    "        -----------\n",
    "            - x_test: a `Series` (dataframe row) representing one test example.\n",
    "        Return:\n",
    "        -------\n",
    "            - The class of the given test example.\n",
    "        \"\"\"\n",
    "        if self.is_leaf:\n",
    "            return self.decision\n",
    "        \n",
    "        for child in self.children:\n",
    "            if x_test[self.split_attribute] == child.jump_condition:\n",
    "                return child.predict(x_test)\n",
    "        \n",
    "        \"\"\"\n",
    "        In case we are encountering a COMPLETELY NEW example (e.g. some rare examples ended up\n",
    "        appearing in the test set, but absent in the training set), we'll return the class \n",
    "        of a RANDOM example.\n",
    "        \n",
    "        There are very few examples like this so this approach would not affect the overall \n",
    "        performance of the algorithm too much. \n",
    "        I've already ran the algorithm several times and the test accuracy barely changed at all.\n",
    "        (there is ONE example like this in the titanic dataset).\n",
    "        \"\"\"\n",
    "        return random.choice(self.items)[1]\n",
    "    \n",
    "    def __repr__(self):\n",
    "        \"\"\"\n",
    "        For better debugging experience\n",
    "        \"\"\"\n",
    "        df = pd.DataFrame([row for (row, c) in self.items])\n",
    "        return repr(df)\n",
    "    \n",
    "    def get_subtree_depth(self):\n",
    "        \"\"\"\n",
    "        Calculate the depth of the subtree at this node recursively\n",
    "        \"\"\"\n",
    "        if self.is_leaf:\n",
    "            return self.depth\n",
    "        return max(child.get_subtree_depth() for child in self.children)"
   ]
  },
  {
   "cell_type": "code",
   "execution_count": 4,
   "id": "a_uKLOc5jmjp",
   "metadata": {
    "deletable": false,
    "executionInfo": {
     "elapsed": 495,
     "status": "ok",
     "timestamp": 1639881870624,
     "user": {
      "displayName": "Khánh Nguyễn",
      "photoUrl": "https://lh3.googleusercontent.com/a-/AOh14GhW5QOJudmqsBqdJ5x2Hfp3zqPDQQRP2FGMhp4kpg=s64",
      "userId": "03950222018643951363"
     },
     "user_tz": -420
    },
    "id": "a_uKLOc5jmjp",
    "nbgrader": {
     "cell_type": "code",
     "checksum": "a080f471787eae8322aa1a2cecca4536",
     "grade": false,
     "grade_id": "cell-b00859438bb62792",
     "locked": false,
     "schema_version": 3,
     "solution": true,
     "task": false
    }
   },
   "outputs": [],
   "source": [
    "# 5đ\n",
    "\n",
    "# Decision Tree class\n",
    "# You should implement the ID3 algorithm here\n",
    "# You can add other utility methods to make your code easy to read :) \n",
    "\n",
    "class DecisionTree:\n",
    "    def __init__(self, max_depth = None):\n",
    "        self.root_node: Node\n",
    "        self.graph = gv.Digraph()\n",
    "        self.max_depth = max_depth or np.inf\n",
    "\n",
    "    def _construct_root_node(self, X_train: pd.DataFrame, y_train):\n",
    "        \"\"\"\n",
    "        Internal function to load all examples into the root node of\n",
    "        this tree.\n",
    "        \"\"\"\n",
    "        self.root_node = Node()\n",
    "        self.root_node.items = [(row[1], y_train[row[0]]) for row in X_train.iterrows()]\n",
    "        self.root_node.candidate_attrs = [c for c in X_train.columns]\n",
    "        self.root_node.depth = 1\n",
    "        self.root_node.tree = self\n",
    "    \n",
    "    def fit(self, X_train: pd.DataFrame, y_train):\n",
    "        \"\"\"\n",
    "        Function to train a decision tree model.\n",
    "\n",
    "        Parameters:\n",
    "        -----------\n",
    "            - X_train: MUST BE A PANDAS DATAFRAME!!!\n",
    "            - y_train: any 1d iterable, but each element must be a `str`.\n",
    "        \"\"\"\n",
    "        self._construct_root_node(X_train, y_train)\n",
    "        self.root_node.grow_subtree()\n",
    "\n",
    "    def predict(self, X_test: pd.DataFrame):\n",
    "        \"\"\"\n",
    "        Proxy function to Node.predict, but is able to handle multiple rows.\n",
    "\n",
    "        Parameters:\n",
    "        -----------\n",
    "            - X_test: test set (must be pd.DataFrame)\n",
    "        Return:\n",
    "        -------\n",
    "            - List of the predicted label of each row in X_test.\n",
    "        \"\"\"\n",
    "        return [self.root_node.predict(row[1]) for row in X_test.iterrows()]\n",
    "    \n",
    "    def visualize(self, node: Node = None, node_name: str = None):\n",
    "        \"\"\"\n",
    "        Draw the subtree at a particular node.\n",
    "\n",
    "        Parameters:\n",
    "        ----------\n",
    "            - node: the node at which the subtree will be drawn. Leave blank to \n",
    "                draw the entire tree.\n",
    "            - node_name: for internal use only. DO NOT TOUCH!\n",
    "        \"\"\"\n",
    "        # Called in normal situations: no parameter\n",
    "        if node is None:\n",
    "            node = self.root_node\n",
    "            node_name = 'root'\n",
    "            self.graph.clear()\n",
    "            self.graph.node(node_name, node.split_attribute)\n",
    "                        \n",
    "        for idx, child in enumerate(node.children):\n",
    "            child_name = node_name + '_c' + str(idx)\n",
    "            if child.is_leaf:\n",
    "                self.graph.node(child_name, child.decision)\n",
    "            else:\n",
    "                self.graph.node(child_name, child.split_attribute)\n",
    "            self.graph.edge(node_name, child_name, child.jump_condition)\n",
    "            \n",
    "            self.visualize(child, child_name)\n",
    "        \n",
    "        return self.graph\n",
    "    \n",
    "    @property\n",
    "    def depth(self) -> int:\n",
    "        \"\"\"\n",
    "        The depth of this tree\n",
    "        \"\"\"\n",
    "        return self.root_node.get_subtree_depth()"
   ]
  },
  {
   "cell_type": "code",
   "execution_count": 5,
   "id": "RKwazqgPAg2W",
   "metadata": {
    "executionInfo": {
     "elapsed": 768,
     "status": "ok",
     "timestamp": 1639881962764,
     "user": {
      "displayName": "Khánh Nguyễn",
      "photoUrl": "https://lh3.googleusercontent.com/a-/AOh14GhW5QOJudmqsBqdJ5x2Hfp3zqPDQQRP2FGMhp4kpg=s64",
      "userId": "03950222018643951363"
     },
     "user_tz": -420
    },
    "id": "RKwazqgPAg2W"
   },
   "outputs": [
    {
     "name": "stdout",
     "output_type": "stream",
     "text": [
      "Score: 1.0\n",
      "Tree depth: 3\n"
     ]
    },
    {
     "data": {
      "image/svg+xml": [
       "<?xml version=\"1.0\" encoding=\"UTF-8\" standalone=\"no\"?>\n",
       "<!DOCTYPE svg PUBLIC \"-//W3C//DTD SVG 1.1//EN\"\n",
       " \"http://www.w3.org/Graphics/SVG/1.1/DTD/svg11.dtd\">\n",
       "<!-- Generated by graphviz version 2.50.0 (0)\n",
       " -->\n",
       "<!-- Pages: 1 -->\n",
       "<svg width=\"293pt\" height=\"218pt\"\n",
       " viewBox=\"0.00 0.00 293.00 218.00\" xmlns=\"http://www.w3.org/2000/svg\" xmlns:xlink=\"http://www.w3.org/1999/xlink\">\n",
       "<g id=\"graph0\" class=\"graph\" transform=\"scale(1 1) rotate(0) translate(4 214)\">\n",
       "<polygon fill=\"white\" stroke=\"transparent\" points=\"-4,4 -4,-214 289,-214 289,4 -4,4\"/>\n",
       "<!-- root -->\n",
       "<g id=\"node1\" class=\"node\">\n",
       "<title>root</title>\n",
       "<ellipse fill=\"none\" stroke=\"black\" cx=\"101\" cy=\"-192\" rx=\"37.89\" ry=\"18\"/>\n",
       "<text text-anchor=\"middle\" x=\"101\" y=\"-188.3\" font-family=\"Times,serif\" font-size=\"14.00\">outlook</text>\n",
       "</g>\n",
       "<!-- root_c0 -->\n",
       "<g id=\"node2\" class=\"node\">\n",
       "<title>root_c0</title>\n",
       "<ellipse fill=\"none\" stroke=\"black\" cx=\"27\" cy=\"-105\" rx=\"27\" ry=\"18\"/>\n",
       "<text text-anchor=\"middle\" x=\"27\" y=\"-101.3\" font-family=\"Times,serif\" font-size=\"14.00\">yes</text>\n",
       "</g>\n",
       "<!-- root&#45;&gt;root_c0 -->\n",
       "<g id=\"edge1\" class=\"edge\">\n",
       "<title>root&#45;&gt;root_c0</title>\n",
       "<path fill=\"none\" stroke=\"black\" d=\"M77.1,-177.85C68.09,-172.04 58.27,-164.56 51,-156 45.15,-149.11 40.37,-140.55 36.65,-132.48\"/>\n",
       "<polygon fill=\"black\" stroke=\"black\" points=\"39.77,-130.86 32.65,-123.01 33.32,-133.58 39.77,-130.86\"/>\n",
       "<text text-anchor=\"middle\" x=\"74\" y=\"-144.8\" font-family=\"Times,serif\" font-size=\"14.00\">overcast</text>\n",
       "</g>\n",
       "<!-- root_c1 -->\n",
       "<g id=\"node3\" class=\"node\">\n",
       "<title>root_c1</title>\n",
       "<ellipse fill=\"none\" stroke=\"black\" cx=\"101\" cy=\"-105\" rx=\"28.7\" ry=\"18\"/>\n",
       "<text text-anchor=\"middle\" x=\"101\" y=\"-101.3\" font-family=\"Times,serif\" font-size=\"14.00\">wind</text>\n",
       "</g>\n",
       "<!-- root&#45;&gt;root_c1 -->\n",
       "<g id=\"edge2\" class=\"edge\">\n",
       "<title>root&#45;&gt;root_c1</title>\n",
       "<path fill=\"none\" stroke=\"black\" d=\"M101,-173.8C101,-162.16 101,-146.55 101,-133.24\"/>\n",
       "<polygon fill=\"black\" stroke=\"black\" points=\"104.5,-133.18 101,-123.18 97.5,-133.18 104.5,-133.18\"/>\n",
       "<text text-anchor=\"middle\" x=\"112\" y=\"-144.8\" font-family=\"Times,serif\" font-size=\"14.00\">rain</text>\n",
       "</g>\n",
       "<!-- root_c2 -->\n",
       "<g id=\"node6\" class=\"node\">\n",
       "<title>root_c2</title>\n",
       "<ellipse fill=\"none\" stroke=\"black\" cx=\"190\" cy=\"-105\" rx=\"42.79\" ry=\"18\"/>\n",
       "<text text-anchor=\"middle\" x=\"190\" y=\"-101.3\" font-family=\"Times,serif\" font-size=\"14.00\">humidity</text>\n",
       "</g>\n",
       "<!-- root&#45;&gt;root_c2 -->\n",
       "<g id=\"edge5\" class=\"edge\">\n",
       "<title>root&#45;&gt;root_c2</title>\n",
       "<path fill=\"none\" stroke=\"black\" d=\"M117.32,-175.41C130.91,-162.43 150.46,-143.76 165.86,-129.06\"/>\n",
       "<polygon fill=\"black\" stroke=\"black\" points=\"168.66,-131.22 173.48,-121.78 163.83,-126.15 168.66,-131.22\"/>\n",
       "<text text-anchor=\"middle\" x=\"167.5\" y=\"-144.8\" font-family=\"Times,serif\" font-size=\"14.00\">sunny</text>\n",
       "</g>\n",
       "<!-- root_c1_c0 -->\n",
       "<g id=\"node4\" class=\"node\">\n",
       "<title>root_c1_c0</title>\n",
       "<ellipse fill=\"none\" stroke=\"black\" cx=\"34\" cy=\"-18\" rx=\"27\" ry=\"18\"/>\n",
       "<text text-anchor=\"middle\" x=\"34\" y=\"-14.3\" font-family=\"Times,serif\" font-size=\"14.00\">no</text>\n",
       "</g>\n",
       "<!-- root_c1&#45;&gt;root_c1_c0 -->\n",
       "<g id=\"edge3\" class=\"edge\">\n",
       "<title>root_c1&#45;&gt;root_c1_c0</title>\n",
       "<path fill=\"none\" stroke=\"black\" d=\"M85.26,-89.68C78.95,-83.59 71.82,-76.23 66,-69 59.74,-61.22 53.63,-52.16 48.46,-43.91\"/>\n",
       "<polygon fill=\"black\" stroke=\"black\" points=\"51.45,-42.08 43.25,-35.37 45.47,-45.73 51.45,-42.08\"/>\n",
       "<text text-anchor=\"middle\" x=\"83\" y=\"-57.8\" font-family=\"Times,serif\" font-size=\"14.00\">strong</text>\n",
       "</g>\n",
       "<!-- root_c1_c1 -->\n",
       "<g id=\"node5\" class=\"node\">\n",
       "<title>root_c1_c1</title>\n",
       "<ellipse fill=\"none\" stroke=\"black\" cx=\"106\" cy=\"-18\" rx=\"27\" ry=\"18\"/>\n",
       "<text text-anchor=\"middle\" x=\"106\" y=\"-14.3\" font-family=\"Times,serif\" font-size=\"14.00\">yes</text>\n",
       "</g>\n",
       "<!-- root_c1&#45;&gt;root_c1_c1 -->\n",
       "<g id=\"edge4\" class=\"edge\">\n",
       "<title>root_c1&#45;&gt;root_c1_c1</title>\n",
       "<path fill=\"none\" stroke=\"black\" d=\"M102.01,-86.8C102.7,-75.16 103.61,-59.55 104.4,-46.24\"/>\n",
       "<polygon fill=\"black\" stroke=\"black\" points=\"107.9,-46.36 104.99,-36.18 100.91,-45.95 107.9,-46.36\"/>\n",
       "<text text-anchor=\"middle\" x=\"118.5\" y=\"-57.8\" font-family=\"Times,serif\" font-size=\"14.00\">weak</text>\n",
       "</g>\n",
       "<!-- root_c2_c0 -->\n",
       "<g id=\"node7\" class=\"node\">\n",
       "<title>root_c2_c0</title>\n",
       "<ellipse fill=\"none\" stroke=\"black\" cx=\"186\" cy=\"-18\" rx=\"27\" ry=\"18\"/>\n",
       "<text text-anchor=\"middle\" x=\"186\" y=\"-14.3\" font-family=\"Times,serif\" font-size=\"14.00\">no</text>\n",
       "</g>\n",
       "<!-- root_c2&#45;&gt;root_c2_c0 -->\n",
       "<g id=\"edge6\" class=\"edge\">\n",
       "<title>root_c2&#45;&gt;root_c2_c0</title>\n",
       "<path fill=\"none\" stroke=\"black\" d=\"M189.19,-86.8C188.64,-75.16 187.91,-59.55 187.28,-46.24\"/>\n",
       "<polygon fill=\"black\" stroke=\"black\" points=\"190.77,-46 186.81,-36.18 183.78,-46.33 190.77,-46\"/>\n",
       "<text text-anchor=\"middle\" x=\"201.5\" y=\"-57.8\" font-family=\"Times,serif\" font-size=\"14.00\">high</text>\n",
       "</g>\n",
       "<!-- root_c2_c1 -->\n",
       "<g id=\"node8\" class=\"node\">\n",
       "<title>root_c2_c1</title>\n",
       "<ellipse fill=\"none\" stroke=\"black\" cx=\"258\" cy=\"-18\" rx=\"27\" ry=\"18\"/>\n",
       "<text text-anchor=\"middle\" x=\"258\" y=\"-14.3\" font-family=\"Times,serif\" font-size=\"14.00\">yes</text>\n",
       "</g>\n",
       "<!-- root_c2&#45;&gt;root_c2_c1 -->\n",
       "<g id=\"edge7\" class=\"edge\">\n",
       "<title>root_c2&#45;&gt;root_c2_c1</title>\n",
       "<path fill=\"none\" stroke=\"black\" d=\"M203.11,-87.61C213.43,-74.71 227.95,-56.56 239.47,-42.17\"/>\n",
       "<polygon fill=\"black\" stroke=\"black\" points=\"242.33,-44.19 245.84,-34.2 236.86,-39.82 242.33,-44.19\"/>\n",
       "<text text-anchor=\"middle\" x=\"248\" y=\"-57.8\" font-family=\"Times,serif\" font-size=\"14.00\">normal</text>\n",
       "</g>\n",
       "</g>\n",
       "</svg>\n"
      ],
      "text/plain": [
       "<graphviz.graphs.Digraph at 0x7f23c6963b50>"
      ]
     },
     "execution_count": 5,
     "metadata": {},
     "output_type": "execute_result"
    }
   ],
   "source": [
    "tree_tennis = DecisionTree()\n",
    "\n",
    "X, y = load_data(\"data/tennis.txt\", split=False)\n",
    "tree_tennis.fit(X, y)\n",
    "y_pred = tree_tennis.predict(X)\n",
    "print('Score:', accuracy_score(y, y_pred))\n",
    "\n",
    "print('Tree depth:', tree_tennis.depth)\n",
    "tree_tennis.visualize()"
   ]
  },
  {
   "cell_type": "code",
   "execution_count": 6,
   "id": "073fa613-e0fa-406e-afad-72109966d999",
   "metadata": {
    "executionInfo": {
     "elapsed": 768,
     "status": "ok",
     "timestamp": 1639881962764,
     "user": {
      "displayName": "Khánh Nguyễn",
      "photoUrl": "https://lh3.googleusercontent.com/a-/AOh14GhW5QOJudmqsBqdJ5x2Hfp3zqPDQQRP2FGMhp4kpg=s64",
      "userId": "03950222018643951363"
     },
     "user_tz": -420
    },
    "id": "RKwazqgPAg2W"
   },
   "outputs": [
    {
     "name": "stdout",
     "output_type": "stream",
     "text": [
      "Train score: 0.7915151515151515\n",
      "Test score: 0.7876588021778584\n",
      "Tree depth: 4\n"
     ]
    },
    {
     "data": {
      "image/svg+xml": [
       "<?xml version=\"1.0\" encoding=\"UTF-8\" standalone=\"no\"?>\n",
       "<!DOCTYPE svg PUBLIC \"-//W3C//DTD SVG 1.1//EN\"\n",
       " \"http://www.w3.org/Graphics/SVG/1.1/DTD/svg11.dtd\">\n",
       "<!-- Generated by graphviz version 2.50.0 (0)\n",
       " -->\n",
       "<!-- Pages: 1 -->\n",
       "<svg width=\"926pt\" height=\"305pt\"\n",
       " viewBox=\"0.00 0.00 926.00 305.00\" xmlns=\"http://www.w3.org/2000/svg\" xmlns:xlink=\"http://www.w3.org/1999/xlink\">\n",
       "<g id=\"graph0\" class=\"graph\" transform=\"scale(1 1) rotate(0) translate(4 301)\">\n",
       "<polygon fill=\"white\" stroke=\"transparent\" points=\"-4,4 -4,-301 922,-301 922,4 -4,4\"/>\n",
       "<!-- root -->\n",
       "<g id=\"node1\" class=\"node\">\n",
       "<title>root</title>\n",
       "<ellipse fill=\"none\" stroke=\"black\" cx=\"411\" cy=\"-279\" rx=\"27\" ry=\"18\"/>\n",
       "<text text-anchor=\"middle\" x=\"411\" y=\"-275.3\" font-family=\"Times,serif\" font-size=\"14.00\">sex</text>\n",
       "</g>\n",
       "<!-- root_c0 -->\n",
       "<g id=\"node2\" class=\"node\">\n",
       "<title>root_c0</title>\n",
       "<ellipse fill=\"none\" stroke=\"black\" cx=\"268\" cy=\"-192\" rx=\"32.49\" ry=\"18\"/>\n",
       "<text text-anchor=\"middle\" x=\"268\" y=\"-188.3\" font-family=\"Times,serif\" font-size=\"14.00\">pclass</text>\n",
       "</g>\n",
       "<!-- root&#45;&gt;root_c0 -->\n",
       "<g id=\"edge1\" class=\"edge\">\n",
       "<title>root&#45;&gt;root_c0</title>\n",
       "<path fill=\"none\" stroke=\"black\" d=\"M391.42,-266.36C367.4,-252.08 326.42,-227.72 298.32,-211.02\"/>\n",
       "<polygon fill=\"black\" stroke=\"black\" points=\"300.07,-207.99 289.68,-205.89 296.49,-214.01 300.07,-207.99\"/>\n",
       "<text text-anchor=\"middle\" x=\"368\" y=\"-231.8\" font-family=\"Times,serif\" font-size=\"14.00\">female</text>\n",
       "</g>\n",
       "<!-- root_c1 -->\n",
       "<g id=\"node13\" class=\"node\">\n",
       "<title>root_c1</title>\n",
       "<ellipse fill=\"none\" stroke=\"black\" cx=\"567\" cy=\"-192\" rx=\"27\" ry=\"18\"/>\n",
       "<text text-anchor=\"middle\" x=\"567\" y=\"-188.3\" font-family=\"Times,serif\" font-size=\"14.00\">age</text>\n",
       "</g>\n",
       "<!-- root&#45;&gt;root_c1 -->\n",
       "<g id=\"edge12\" class=\"edge\">\n",
       "<title>root&#45;&gt;root_c1</title>\n",
       "<path fill=\"none\" stroke=\"black\" d=\"M431.39,-266.89C458.49,-252.12 506.54,-225.95 537.56,-209.04\"/>\n",
       "<polygon fill=\"black\" stroke=\"black\" points=\"539.49,-211.97 546.6,-204.11 536.14,-205.83 539.49,-211.97\"/>\n",
       "<text text-anchor=\"middle\" x=\"513\" y=\"-231.8\" font-family=\"Times,serif\" font-size=\"14.00\">male</text>\n",
       "</g>\n",
       "<!-- root_c0_c0 -->\n",
       "<g id=\"node3\" class=\"node\">\n",
       "<title>root_c0_c0</title>\n",
       "<ellipse fill=\"none\" stroke=\"black\" cx=\"63\" cy=\"-105\" rx=\"27\" ry=\"18\"/>\n",
       "<text text-anchor=\"middle\" x=\"63\" y=\"-101.3\" font-family=\"Times,serif\" font-size=\"14.00\">age</text>\n",
       "</g>\n",
       "<!-- root_c0&#45;&gt;root_c0_c0 -->\n",
       "<g id=\"edge2\" class=\"edge\">\n",
       "<title>root_c0&#45;&gt;root_c0_c0</title>\n",
       "<path fill=\"none\" stroke=\"black\" d=\"M242.86,-180.58C205.63,-165.14 135.82,-136.19 94.99,-119.26\"/>\n",
       "<polygon fill=\"black\" stroke=\"black\" points=\"96.09,-115.93 85.51,-115.33 93.41,-122.4 96.09,-115.93\"/>\n",
       "<text text-anchor=\"middle\" x=\"186\" y=\"-144.8\" font-family=\"Times,serif\" font-size=\"14.00\">1st</text>\n",
       "</g>\n",
       "<!-- root_c0_c1 -->\n",
       "<g id=\"node5\" class=\"node\">\n",
       "<title>root_c0_c1</title>\n",
       "<ellipse fill=\"none\" stroke=\"black\" cx=\"171\" cy=\"-105\" rx=\"27\" ry=\"18\"/>\n",
       "<text text-anchor=\"middle\" x=\"171\" y=\"-101.3\" font-family=\"Times,serif\" font-size=\"14.00\">age</text>\n",
       "</g>\n",
       "<!-- root_c0&#45;&gt;root_c0_c1 -->\n",
       "<g id=\"edge4\" class=\"edge\">\n",
       "<title>root_c0&#45;&gt;root_c0_c1</title>\n",
       "<path fill=\"none\" stroke=\"black\" d=\"M251.1,-176.19C235.38,-162.42 211.81,-141.76 194.31,-126.42\"/>\n",
       "<polygon fill=\"black\" stroke=\"black\" points=\"196.57,-123.75 186.74,-119.79 191.95,-129.02 196.57,-123.75\"/>\n",
       "<text text-anchor=\"middle\" x=\"236.5\" y=\"-144.8\" font-family=\"Times,serif\" font-size=\"14.00\">2nd</text>\n",
       "</g>\n",
       "<!-- root_c0_c2 -->\n",
       "<g id=\"node8\" class=\"node\">\n",
       "<title>root_c0_c2</title>\n",
       "<ellipse fill=\"none\" stroke=\"black\" cx=\"268\" cy=\"-105\" rx=\"27\" ry=\"18\"/>\n",
       "<text text-anchor=\"middle\" x=\"268\" y=\"-101.3\" font-family=\"Times,serif\" font-size=\"14.00\">age</text>\n",
       "</g>\n",
       "<!-- root_c0&#45;&gt;root_c0_c2 -->\n",
       "<g id=\"edge7\" class=\"edge\">\n",
       "<title>root_c0&#45;&gt;root_c0_c2</title>\n",
       "<path fill=\"none\" stroke=\"black\" d=\"M268,-173.8C268,-162.16 268,-146.55 268,-133.24\"/>\n",
       "<polygon fill=\"black\" stroke=\"black\" points=\"271.5,-133.18 268,-123.18 264.5,-133.18 271.5,-133.18\"/>\n",
       "<text text-anchor=\"middle\" x=\"277.5\" y=\"-144.8\" font-family=\"Times,serif\" font-size=\"14.00\">3rd</text>\n",
       "</g>\n",
       "<!-- root_c0_c3 -->\n",
       "<g id=\"node11\" class=\"node\">\n",
       "<title>root_c0_c3</title>\n",
       "<ellipse fill=\"none\" stroke=\"black\" cx=\"374\" cy=\"-105\" rx=\"27\" ry=\"18\"/>\n",
       "<text text-anchor=\"middle\" x=\"374\" y=\"-101.3\" font-family=\"Times,serif\" font-size=\"14.00\">age</text>\n",
       "</g>\n",
       "<!-- root_c0&#45;&gt;root_c0_c3 -->\n",
       "<g id=\"edge10\" class=\"edge\">\n",
       "<title>root_c0&#45;&gt;root_c0_c3</title>\n",
       "<path fill=\"none\" stroke=\"black\" d=\"M285.98,-176.58C303.45,-162.57 330.11,-141.2 349.51,-125.64\"/>\n",
       "<polygon fill=\"black\" stroke=\"black\" points=\"351.72,-128.35 357.33,-119.37 347.34,-122.89 351.72,-128.35\"/>\n",
       "<text text-anchor=\"middle\" x=\"341.5\" y=\"-144.8\" font-family=\"Times,serif\" font-size=\"14.00\">crew</text>\n",
       "</g>\n",
       "<!-- root_c0_c0_c0 -->\n",
       "<g id=\"node4\" class=\"node\">\n",
       "<title>root_c0_c0_c0</title>\n",
       "<ellipse fill=\"none\" stroke=\"black\" cx=\"27\" cy=\"-18\" rx=\"27\" ry=\"18\"/>\n",
       "<text text-anchor=\"middle\" x=\"27\" y=\"-14.3\" font-family=\"Times,serif\" font-size=\"14.00\">yes</text>\n",
       "</g>\n",
       "<!-- root_c0_c0&#45;&gt;root_c0_c0_c0 -->\n",
       "<g id=\"edge3\" class=\"edge\">\n",
       "<title>root_c0_c0&#45;&gt;root_c0_c0_c0</title>\n",
       "<path fill=\"none\" stroke=\"black\" d=\"M55.89,-87.21C50.78,-75.14 43.79,-58.64 37.97,-44.89\"/>\n",
       "<polygon fill=\"black\" stroke=\"black\" points=\"41.1,-43.31 33.98,-35.47 34.65,-46.04 41.1,-43.31\"/>\n",
       "<text text-anchor=\"middle\" x=\"62\" y=\"-57.8\" font-family=\"Times,serif\" font-size=\"14.00\">adult</text>\n",
       "</g>\n",
       "<!-- root_c0_c1_c0 -->\n",
       "<g id=\"node6\" class=\"node\">\n",
       "<title>root_c0_c1_c0</title>\n",
       "<ellipse fill=\"none\" stroke=\"black\" cx=\"99\" cy=\"-18\" rx=\"27\" ry=\"18\"/>\n",
       "<text text-anchor=\"middle\" x=\"99\" y=\"-14.3\" font-family=\"Times,serif\" font-size=\"14.00\">yes</text>\n",
       "</g>\n",
       "<!-- root_c0_c1&#45;&gt;root_c0_c1_c0 -->\n",
       "<g id=\"edge5\" class=\"edge\">\n",
       "<title>root_c0_c1&#45;&gt;root_c0_c1_c0</title>\n",
       "<path fill=\"none\" stroke=\"black\" d=\"M157.08,-89.21C151.38,-83.04 144.78,-75.76 139,-69 131.74,-60.51 124.01,-50.98 117.31,-42.54\"/>\n",
       "<polygon fill=\"black\" stroke=\"black\" points=\"119.94,-40.22 111,-34.53 114.44,-44.55 119.94,-40.22\"/>\n",
       "<text text-anchor=\"middle\" x=\"153\" y=\"-57.8\" font-family=\"Times,serif\" font-size=\"14.00\">adult</text>\n",
       "</g>\n",
       "<!-- root_c0_c1_c1 -->\n",
       "<g id=\"node7\" class=\"node\">\n",
       "<title>root_c0_c1_c1</title>\n",
       "<ellipse fill=\"none\" stroke=\"black\" cx=\"171\" cy=\"-18\" rx=\"27\" ry=\"18\"/>\n",
       "<text text-anchor=\"middle\" x=\"171\" y=\"-14.3\" font-family=\"Times,serif\" font-size=\"14.00\">yes</text>\n",
       "</g>\n",
       "<!-- root_c0_c1&#45;&gt;root_c0_c1_c1 -->\n",
       "<g id=\"edge6\" class=\"edge\">\n",
       "<title>root_c0_c1&#45;&gt;root_c0_c1_c1</title>\n",
       "<path fill=\"none\" stroke=\"black\" d=\"M171,-86.8C171,-75.16 171,-59.55 171,-46.24\"/>\n",
       "<polygon fill=\"black\" stroke=\"black\" points=\"174.5,-46.18 171,-36.18 167.5,-46.18 174.5,-46.18\"/>\n",
       "<text text-anchor=\"middle\" x=\"185\" y=\"-57.8\" font-family=\"Times,serif\" font-size=\"14.00\">child</text>\n",
       "</g>\n",
       "<!-- root_c0_c2_c0 -->\n",
       "<g id=\"node9\" class=\"node\">\n",
       "<title>root_c0_c2_c0</title>\n",
       "<ellipse fill=\"none\" stroke=\"black\" cx=\"243\" cy=\"-18\" rx=\"27\" ry=\"18\"/>\n",
       "<text text-anchor=\"middle\" x=\"243\" y=\"-14.3\" font-family=\"Times,serif\" font-size=\"14.00\">no</text>\n",
       "</g>\n",
       "<!-- root_c0_c2&#45;&gt;root_c0_c2_c0 -->\n",
       "<g id=\"edge8\" class=\"edge\">\n",
       "<title>root_c0_c2&#45;&gt;root_c0_c2_c0</title>\n",
       "<path fill=\"none\" stroke=\"black\" d=\"M263.06,-87.21C259.57,-75.33 254.81,-59.17 250.81,-45.56\"/>\n",
       "<polygon fill=\"black\" stroke=\"black\" points=\"254.11,-44.36 247.93,-35.76 247.39,-46.34 254.11,-44.36\"/>\n",
       "<text text-anchor=\"middle\" x=\"271\" y=\"-57.8\" font-family=\"Times,serif\" font-size=\"14.00\">adult</text>\n",
       "</g>\n",
       "<!-- root_c0_c2_c1 -->\n",
       "<g id=\"node10\" class=\"node\">\n",
       "<title>root_c0_c2_c1</title>\n",
       "<ellipse fill=\"none\" stroke=\"black\" cx=\"315\" cy=\"-18\" rx=\"27\" ry=\"18\"/>\n",
       "<text text-anchor=\"middle\" x=\"315\" y=\"-14.3\" font-family=\"Times,serif\" font-size=\"14.00\">no</text>\n",
       "</g>\n",
       "<!-- root_c0_c2&#45;&gt;root_c0_c2_c1 -->\n",
       "<g id=\"edge9\" class=\"edge\">\n",
       "<title>root_c0_c2&#45;&gt;root_c0_c2_c1</title>\n",
       "<path fill=\"none\" stroke=\"black\" d=\"M277.82,-88.09C281.42,-82.15 285.47,-75.31 289,-69 293.41,-61.11 298.03,-52.4 302.13,-44.49\"/>\n",
       "<polygon fill=\"black\" stroke=\"black\" points=\"305.37,-45.84 306.82,-35.35 299.14,-42.65 305.37,-45.84\"/>\n",
       "<text text-anchor=\"middle\" x=\"312\" y=\"-57.8\" font-family=\"Times,serif\" font-size=\"14.00\">child</text>\n",
       "</g>\n",
       "<!-- root_c0_c3_c0 -->\n",
       "<g id=\"node12\" class=\"node\">\n",
       "<title>root_c0_c3_c0</title>\n",
       "<ellipse fill=\"none\" stroke=\"black\" cx=\"387\" cy=\"-18\" rx=\"27\" ry=\"18\"/>\n",
       "<text text-anchor=\"middle\" x=\"387\" y=\"-14.3\" font-family=\"Times,serif\" font-size=\"14.00\">yes</text>\n",
       "</g>\n",
       "<!-- root_c0_c3&#45;&gt;root_c0_c3_c0 -->\n",
       "<g id=\"edge11\" class=\"edge\">\n",
       "<title>root_c0_c3&#45;&gt;root_c0_c3_c0</title>\n",
       "<path fill=\"none\" stroke=\"black\" d=\"M376.63,-86.8C378.41,-75.16 380.8,-59.55 382.83,-46.24\"/>\n",
       "<polygon fill=\"black\" stroke=\"black\" points=\"386.32,-46.59 384.37,-36.18 379.4,-45.53 386.32,-46.59\"/>\n",
       "<text text-anchor=\"middle\" x=\"396\" y=\"-57.8\" font-family=\"Times,serif\" font-size=\"14.00\">adult</text>\n",
       "</g>\n",
       "<!-- root_c1_c0 -->\n",
       "<g id=\"node14\" class=\"node\">\n",
       "<title>root_c1_c0</title>\n",
       "<ellipse fill=\"none\" stroke=\"black\" cx=\"567\" cy=\"-105\" rx=\"32.49\" ry=\"18\"/>\n",
       "<text text-anchor=\"middle\" x=\"567\" y=\"-101.3\" font-family=\"Times,serif\" font-size=\"14.00\">pclass</text>\n",
       "</g>\n",
       "<!-- root_c1&#45;&gt;root_c1_c0 -->\n",
       "<g id=\"edge13\" class=\"edge\">\n",
       "<title>root_c1&#45;&gt;root_c1_c0</title>\n",
       "<path fill=\"none\" stroke=\"black\" d=\"M567,-173.8C567,-162.16 567,-146.55 567,-133.24\"/>\n",
       "<polygon fill=\"black\" stroke=\"black\" points=\"570.5,-133.18 567,-123.18 563.5,-133.18 570.5,-133.18\"/>\n",
       "<text text-anchor=\"middle\" x=\"581\" y=\"-144.8\" font-family=\"Times,serif\" font-size=\"14.00\">adult</text>\n",
       "</g>\n",
       "<!-- root_c1_c1 -->\n",
       "<g id=\"node19\" class=\"node\">\n",
       "<title>root_c1_c1</title>\n",
       "<ellipse fill=\"none\" stroke=\"black\" cx=\"783\" cy=\"-105\" rx=\"32.49\" ry=\"18\"/>\n",
       "<text text-anchor=\"middle\" x=\"783\" y=\"-101.3\" font-family=\"Times,serif\" font-size=\"14.00\">pclass</text>\n",
       "</g>\n",
       "<!-- root_c1&#45;&gt;root_c1_c1 -->\n",
       "<g id=\"edge18\" class=\"edge\">\n",
       "<title>root_c1&#45;&gt;root_c1_c1</title>\n",
       "<path fill=\"none\" stroke=\"black\" d=\"M589.71,-182.06C627.37,-167.24 703.02,-137.47 747.7,-119.89\"/>\n",
       "<polygon fill=\"black\" stroke=\"black\" points=\"749.25,-123.04 757.27,-116.12 746.68,-116.53 749.25,-123.04\"/>\n",
       "<text text-anchor=\"middle\" x=\"702\" y=\"-144.8\" font-family=\"Times,serif\" font-size=\"14.00\">child</text>\n",
       "</g>\n",
       "<!-- root_c1_c0_c0 -->\n",
       "<g id=\"node15\" class=\"node\">\n",
       "<title>root_c1_c0_c0</title>\n",
       "<ellipse fill=\"none\" stroke=\"black\" cx=\"459\" cy=\"-18\" rx=\"27\" ry=\"18\"/>\n",
       "<text text-anchor=\"middle\" x=\"459\" y=\"-14.3\" font-family=\"Times,serif\" font-size=\"14.00\">no</text>\n",
       "</g>\n",
       "<!-- root_c1_c0&#45;&gt;root_c1_c0_c0 -->\n",
       "<g id=\"edge14\" class=\"edge\">\n",
       "<title>root_c1_c0&#45;&gt;root_c1_c0_c0</title>\n",
       "<path fill=\"none\" stroke=\"black\" d=\"M548.68,-89.58C530.88,-75.57 503.72,-54.2 483.95,-38.64\"/>\n",
       "<polygon fill=\"black\" stroke=\"black\" points=\"486.01,-35.8 475.98,-32.37 481.68,-41.3 486.01,-35.8\"/>\n",
       "<text text-anchor=\"middle\" x=\"528\" y=\"-57.8\" font-family=\"Times,serif\" font-size=\"14.00\">1st</text>\n",
       "</g>\n",
       "<!-- root_c1_c0_c1 -->\n",
       "<g id=\"node16\" class=\"node\">\n",
       "<title>root_c1_c0_c1</title>\n",
       "<ellipse fill=\"none\" stroke=\"black\" cx=\"531\" cy=\"-18\" rx=\"27\" ry=\"18\"/>\n",
       "<text text-anchor=\"middle\" x=\"531\" y=\"-14.3\" font-family=\"Times,serif\" font-size=\"14.00\">no</text>\n",
       "</g>\n",
       "<!-- root_c1_c0&#45;&gt;root_c1_c0_c1 -->\n",
       "<g id=\"edge15\" class=\"edge\">\n",
       "<title>root_c1_c0&#45;&gt;root_c1_c0_c1</title>\n",
       "<path fill=\"none\" stroke=\"black\" d=\"M559.89,-87.21C554.78,-75.14 547.79,-58.64 541.97,-44.89\"/>\n",
       "<polygon fill=\"black\" stroke=\"black\" points=\"545.1,-43.31 537.98,-35.47 538.65,-46.04 545.1,-43.31\"/>\n",
       "<text text-anchor=\"middle\" x=\"562.5\" y=\"-57.8\" font-family=\"Times,serif\" font-size=\"14.00\">2nd</text>\n",
       "</g>\n",
       "<!-- root_c1_c0_c2 -->\n",
       "<g id=\"node17\" class=\"node\">\n",
       "<title>root_c1_c0_c2</title>\n",
       "<ellipse fill=\"none\" stroke=\"black\" cx=\"603\" cy=\"-18\" rx=\"27\" ry=\"18\"/>\n",
       "<text text-anchor=\"middle\" x=\"603\" y=\"-14.3\" font-family=\"Times,serif\" font-size=\"14.00\">no</text>\n",
       "</g>\n",
       "<!-- root_c1_c0&#45;&gt;root_c1_c0_c2 -->\n",
       "<g id=\"edge16\" class=\"edge\">\n",
       "<title>root_c1_c0&#45;&gt;root_c1_c0_c2</title>\n",
       "<path fill=\"none\" stroke=\"black\" d=\"M574.11,-87.21C579.22,-75.14 586.21,-58.64 592.03,-44.89\"/>\n",
       "<polygon fill=\"black\" stroke=\"black\" points=\"595.35,-46.04 596.02,-35.47 588.9,-43.31 595.35,-46.04\"/>\n",
       "<text text-anchor=\"middle\" x=\"597.5\" y=\"-57.8\" font-family=\"Times,serif\" font-size=\"14.00\">3rd</text>\n",
       "</g>\n",
       "<!-- root_c1_c0_c3 -->\n",
       "<g id=\"node18\" class=\"node\">\n",
       "<title>root_c1_c0_c3</title>\n",
       "<ellipse fill=\"none\" stroke=\"black\" cx=\"675\" cy=\"-18\" rx=\"27\" ry=\"18\"/>\n",
       "<text text-anchor=\"middle\" x=\"675\" y=\"-14.3\" font-family=\"Times,serif\" font-size=\"14.00\">no</text>\n",
       "</g>\n",
       "<!-- root_c1_c0&#45;&gt;root_c1_c0_c3 -->\n",
       "<g id=\"edge17\" class=\"edge\">\n",
       "<title>root_c1_c0&#45;&gt;root_c1_c0_c3</title>\n",
       "<path fill=\"none\" stroke=\"black\" d=\"M585.32,-89.58C603.12,-75.57 630.28,-54.2 650.05,-38.64\"/>\n",
       "<polygon fill=\"black\" stroke=\"black\" points=\"652.32,-41.3 658.02,-32.37 647.99,-35.8 652.32,-41.3\"/>\n",
       "<text text-anchor=\"middle\" x=\"641.5\" y=\"-57.8\" font-family=\"Times,serif\" font-size=\"14.00\">crew</text>\n",
       "</g>\n",
       "<!-- root_c1_c1_c0 -->\n",
       "<g id=\"node20\" class=\"node\">\n",
       "<title>root_c1_c1_c0</title>\n",
       "<ellipse fill=\"none\" stroke=\"black\" cx=\"747\" cy=\"-18\" rx=\"27\" ry=\"18\"/>\n",
       "<text text-anchor=\"middle\" x=\"747\" y=\"-14.3\" font-family=\"Times,serif\" font-size=\"14.00\">yes</text>\n",
       "</g>\n",
       "<!-- root_c1_c1&#45;&gt;root_c1_c1_c0 -->\n",
       "<g id=\"edge19\" class=\"edge\">\n",
       "<title>root_c1_c1&#45;&gt;root_c1_c1_c0</title>\n",
       "<path fill=\"none\" stroke=\"black\" d=\"M775.89,-87.21C770.78,-75.14 763.79,-58.64 757.97,-44.89\"/>\n",
       "<polygon fill=\"black\" stroke=\"black\" points=\"761.1,-43.31 753.98,-35.47 754.65,-46.04 761.1,-43.31\"/>\n",
       "<text text-anchor=\"middle\" x=\"776\" y=\"-57.8\" font-family=\"Times,serif\" font-size=\"14.00\">1st</text>\n",
       "</g>\n",
       "<!-- root_c1_c1_c1 -->\n",
       "<g id=\"node21\" class=\"node\">\n",
       "<title>root_c1_c1_c1</title>\n",
       "<ellipse fill=\"none\" stroke=\"black\" cx=\"819\" cy=\"-18\" rx=\"27\" ry=\"18\"/>\n",
       "<text text-anchor=\"middle\" x=\"819\" y=\"-14.3\" font-family=\"Times,serif\" font-size=\"14.00\">yes</text>\n",
       "</g>\n",
       "<!-- root_c1_c1&#45;&gt;root_c1_c1_c1 -->\n",
       "<g id=\"edge20\" class=\"edge\">\n",
       "<title>root_c1_c1&#45;&gt;root_c1_c1_c1</title>\n",
       "<path fill=\"none\" stroke=\"black\" d=\"M790.11,-87.21C795.22,-75.14 802.21,-58.64 808.03,-44.89\"/>\n",
       "<polygon fill=\"black\" stroke=\"black\" points=\"811.35,-46.04 812.02,-35.47 804.9,-43.31 811.35,-46.04\"/>\n",
       "<text text-anchor=\"middle\" x=\"814.5\" y=\"-57.8\" font-family=\"Times,serif\" font-size=\"14.00\">2nd</text>\n",
       "</g>\n",
       "<!-- root_c1_c1_c2 -->\n",
       "<g id=\"node22\" class=\"node\">\n",
       "<title>root_c1_c1_c2</title>\n",
       "<ellipse fill=\"none\" stroke=\"black\" cx=\"891\" cy=\"-18\" rx=\"27\" ry=\"18\"/>\n",
       "<text text-anchor=\"middle\" x=\"891\" y=\"-14.3\" font-family=\"Times,serif\" font-size=\"14.00\">no</text>\n",
       "</g>\n",
       "<!-- root_c1_c1&#45;&gt;root_c1_c1_c2 -->\n",
       "<g id=\"edge21\" class=\"edge\">\n",
       "<title>root_c1_c1&#45;&gt;root_c1_c1_c2</title>\n",
       "<path fill=\"none\" stroke=\"black\" d=\"M801.45,-90.15C809.89,-83.77 819.99,-76.05 829,-69 841.53,-59.19 855.32,-48.09 866.71,-38.85\"/>\n",
       "<polygon fill=\"black\" stroke=\"black\" points=\"868.97,-41.52 874.52,-32.5 864.56,-36.09 868.97,-41.52\"/>\n",
       "<text text-anchor=\"middle\" x=\"856.5\" y=\"-57.8\" font-family=\"Times,serif\" font-size=\"14.00\">3rd</text>\n",
       "</g>\n",
       "</g>\n",
       "</svg>\n"
      ],
      "text/plain": [
       "<graphviz.graphs.Digraph at 0x7f23c6945fa0>"
      ]
     },
     "execution_count": 6,
     "metadata": {},
     "output_type": "execute_result"
    }
   ],
   "source": [
    "tree_tinatic = DecisionTree()\n",
    "\n",
    "X_train, y_train, X_test, y_test = load_data(\"data/titanic2.txt\")\n",
    "tree_tinatic.fit(X_train, y_train)\n",
    "\n",
    "y_pred_train = tree_tinatic.predict(X_train)\n",
    "print('Train score:', accuracy_score(y_train, y_pred_train))\n",
    "\n",
    "y_pred_test = tree_tinatic.predict(X_test)\n",
    "print('Test score:', accuracy_score(y_test, y_pred_test))\n",
    "\n",
    "print('Tree depth:', tree_tinatic.depth)\n",
    "tree_tinatic.visualize()"
   ]
  },
  {
   "cell_type": "markdown",
   "id": "0482f422-aa19-4080-8a5d-1699bd4472ae",
   "metadata": {},
   "source": [
    "## Thực hiện xây decision tree cho dataset dự đoán điểm của anime\n",
    "Dữ liệu từ [Kaggle](https://www.kaggle.com/hernan4444/anime-recommendation-database-2020), thu thập từ MyAnimeList (2020).\n",
    "\n",
    "Em đã tiền xử lý sơ qua dữ liệu và lưu vào file `anime_processes.tsv`.\n",
    "\n",
    "File này gốc có 10000 dòng nhưng làm vậy thì sẽ train rất lâu (1 phút) nên em đã lấy ra ngẫu nhiên 2000 dòng (train 10 giây).\n",
    "\n",
    "Data sau khi xử lý gồm các cột sau:\n",
    "- `Type`: loại anime, bao gồm: `Movies`, `OVA`, `TV`, `Special`, `Music`, ...\n",
    "- `DroppedPerc`: tỉ lệ người đã drop anime này, làm tròn đến bội số 5% gần nhất. Số này không lớn hơn 30% nên có thể xem như \"giả categorical\".\n",
    "- `Score`: điểm trên thang 10, đã làm tròn về số nguyên gần nhất.\n",
    "- Các cột còn lại như `Adventure`, `Action`, `Drama`, ...: thể loại nội dung anime dưới dạng one-hot encoding. Một anime có thể thuộc về nhiều thể loại."
   ]
  },
  {
   "cell_type": "code",
   "execution_count": 7,
   "id": "3b39b94a-c7bb-4a5a-940c-8484591ad5d3",
   "metadata": {},
   "outputs": [
    {
     "name": "stdout",
     "output_type": "stream",
     "text": [
      "Please wait about 10s...\n",
      "CPU times: user 10.3 s, sys: 52.1 ms, total: 10.3 s\n",
      "Wall time: 10.3 s\n",
      "\n",
      "Train score: 0.8973333333333333\n",
      "Test score: 0.498\n",
      "Tree depth: 46\n"
     ]
    }
   ],
   "source": [
    "# CHẠY SẼ MẤT TẦM 10S\n",
    "\n",
    "tree_anime = DecisionTree()\n",
    "\n",
    "X_train, y_train, X_test, y_test = load_data(\"data/anime_processed.tsv\")\n",
    "print('Please wait about 10s...')\n",
    "%time tree_anime.fit(X_train, y_train)\n",
    "\n",
    "y_pred_train = tree_anime.predict(X_train)\n",
    "print('\\nTrain score:', accuracy_score(y_train, y_pred_train))\n",
    "\n",
    "y_pred_test = tree_anime.predict(X_test)\n",
    "print('Test score:', accuracy_score(y_test, y_pred_test))\n",
    "\n",
    "# Dataset này khá lớn nên ta không thể vẽ được (được nhưng sẽ rất chậm vì cây rất sâu)\n",
    "print('Tree depth:', tree_anime.depth)"
   ]
  },
  {
   "cell_type": "markdown",
   "id": "ggqgBjBGd9vy",
   "metadata": {
    "id": "ggqgBjBGd9vy"
   },
   "source": [
    "### Trả lời câu hỏi (0.5đ)"
   ]
  },
  {
   "cell_type": "markdown",
   "id": "mpFvRmPoLX78",
   "metadata": {},
   "source": [
    "**Câu hỏi 1**: Bạn có nhận xét gì về accuracy giữa tập train và tập test (trên tập ```titanic2``` và/hoặc trên tập dữ liệu bạn chọn)? Giải thích và nêu hướng giải quyết. (0.5đ)\n",
    "\n",
    "---\n",
    "\n",
    "**Trên tập dữ liệu `titanic2`:** mô hình có train accuracy 0.79. Điều này xảy ra do một trong các lý do sau:\n",
    "\n",
    "- Vì một trong các điều kiện dừng của ID3 là: khi ta không còn attribute để tiếp tục split một node, nhưng tất cả các training example vẫn chưa có cùng class, lúc này ta sẽ cho node này trở thành node lá và class của node này sẽ là _class có số lượng mẫu đông nhất_ (major voting). Lúc đó thì những điểm dữ liệu thuộc về class còn lại sẽ bị phân lớp sai.\n",
    "- Điểm dữ liệu này chỉ xuất hiện trong test set mà không xuất hiện trong training set nên thuật toán không thể ra quyết định (trong implementation này thì trường hợp này em cho đoán ngẫu nhiên).\n",
    "\n",
    "Nhìn chung mô hình này bị cả **high bias và high variance (underfit)**, nên ta có thể:\n",
    "- Tăng độ phức tạp của mô hình. Nhưng trong trường hợp của cây quyết định thì mặc định nó không có hyper-parameter nên ta cũng không thể tăng được độ phức tạp của nó.\n",
    "- Đổi sang mô hình khác: decision tree là một mô hình khá đơn giản nhưng nó không quá chính xác. Ta có thể sử dụng Naive Bayes classifier, softmax regression hay neural network, ...\n",
    "\n",
    "---\n",
    "\n",
    "**Trên tập dữ liệu `anime`**, training accuracy là chấp nhận được (0.89) nhưng test accuracy rất tệ (0.5). Điều này cho thấy mô hình bị **high variance (overfit)**. Điều này có thể là do\n",
    "- Mô hình đủ phức tạp để sinh ra các luật phân lớp cho tập train, nhưng nó đã bị \"quá khớp\" với training set, và khi gặp một số dòng dữ liệu ngoại lai từ test set nó đã bị \"lạ lẫm\" nên không làm tốt công việc classify của mình. \n",
    "- Dữ liệu có nhiều noise.\n",
    "\n",
    "Lúc này ta có thể:\n",
    "- Thu thập thêm dữ liệu. Ở đây ta có tới 10000 record nhưng do hiệu năng của hàm mà em cài đặt không tốt nên em chỉ trích ra một phần nhỏ để demo. Khi ở nhà có thời gian em đã chạy hết với 10000 record và thu được train error = 0.89, test error = 0.51. Gần như không thay đổi, nên có lẽ dữ liệu này có nhiều noise cần xử lý thêm (chọn ra các thể loại phim \"chính\" bằng PCA chẳng hạn).\n",
    "- Cách thứ 2 là ta có thể giảm bớt độ phức tạp của model. Với decision tree thì việc này có thể được thực hiện qua việc cắt tỉa (pruning) bằng cách chỉ cho cây grow đến một độ sâu nhất định nào đó. Ở trên em _đã cài đặt_ pre-pruning (early stopping) nhưng cũng không cho kết quả tốt nên em không đưa vào demo.\n",
    "- Có thể sử dụng random forest + boosting (ensemble method). Random forest xây dựng nhiều decision tree với độ sâu thấp (độ phức tạp thấp) nên có thể giảm overfitting."
   ]
  },
  {
   "cell_type": "markdown",
   "id": "QOI51WD9HtW1",
   "metadata": {
    "id": "QOI51WD9HtW1"
   },
   "source": [
    "## Phần II: Phân cụm (5đ)"
   ]
  },
  {
   "cell_type": "markdown",
   "id": "FDLMYDnXeGhE",
   "metadata": {
    "id": "FDLMYDnXeGhE"
   },
   "source": [
    "### Yêu cầu"
   ]
  },
  {
   "cell_type": "markdown",
   "id": "QL-1y-F2TUz7",
   "metadata": {
    "id": "QL-1y-F2TUz7"
   },
   "source": [
    "Trong phần này, các bạn sẽ cài đặt thuật toán phân cụm k-means trên dữ liệu tổng hợp (synthetic data)."
   ]
  },
  {
   "cell_type": "code",
   "execution_count": 8,
   "id": "Cqp_wbBHOFun",
   "metadata": {},
   "outputs": [],
   "source": [
    "import numpy as np\n",
    "import matplotlib.pyplot as plt\n",
    "from scipy.spatial.distance import cdist"
   ]
  },
  {
   "cell_type": "markdown",
   "id": "tvULptcxUP4F",
   "metadata": {
    "id": "tvULptcxUP4F"
   },
   "source": [
    "Dữ liệu được sử dụng bao gồm 1500 điểm, thuộc 3 cụm với center lần lượt là (2, 2), (7,3), (3, 6). Các điểm dữ liệu trong từng cụm được sinh ngẫu nhiên theo phân phối chuẩn 2 biến (bivariate normal distribution). "
   ]
  },
  {
   "cell_type": "code",
   "execution_count": 9,
   "id": "d6W4g6D_PoEc",
   "metadata": {
    "id": "d6W4g6D_PoEc"
   },
   "outputs": [],
   "source": [
    "# generate synthetic data \n",
    "def generate_data(means, cov, N, K):\n",
    "    np.random.seed(42)\n",
    "    X0 = np.random.multivariate_normal(means[0], cov, N)\n",
    "    X1 = np.random.multivariate_normal(means[1], cov, N)\n",
    "    X2 = np.random.multivariate_normal(means[2], cov, N)\n",
    "\n",
    "    X = np.concatenate((X0, X1, X2), axis = 0)\n",
    "    original_label = np.asarray([0]*N + [1]*N + [2]*N).T\n",
    "\n",
    "    return X, original_label\n",
    "\n",
    "# visualize data \n",
    "def kmeans_display(X, label):\n",
    "    K = np.amax(label) + 1\n",
    "    X0 = X[label == 0, :]\n",
    "    X1 = X[label == 1, :]\n",
    "    X2 = X[label == 2, :]\n",
    "    \n",
    "    plt.plot(X0[:, 0], X0[:, 1], 'b^', markersize = 4, alpha = .8)\n",
    "    plt.plot(X1[:, 0], X1[:, 1], 'go', markersize = 4, alpha = .8)\n",
    "    plt.plot(X2[:, 0], X2[:, 1], 'rs', markersize = 4, alpha = .8)\n",
    "\n",
    "    plt.axis('equal')\n",
    "    plt.plot()\n",
    "    plt.show()"
   ]
  },
  {
   "cell_type": "code",
   "execution_count": 10,
   "id": "90Og5sbUU8L8",
   "metadata": {
    "colab": {
     "base_uri": "https://localhost:8080/",
     "height": 265
    },
    "executionInfo": {
     "elapsed": 8,
     "status": "ok",
     "timestamp": 1639878986473,
     "user": {
      "displayName": "Khánh Nguyễn",
      "photoUrl": "https://lh3.googleusercontent.com/a-/AOh14GhW5QOJudmqsBqdJ5x2Hfp3zqPDQQRP2FGMhp4kpg=s64",
      "userId": "03950222018643951363"
     },
     "user_tz": -420
    },
    "id": "90Og5sbUU8L8",
    "outputId": "57902a78-d5ee-41d4-b85e-66e6fa483997"
   },
   "outputs": [
    {
     "data": {
      "image/png": "[encoded data removed]",
      "text/plain": [
       "<Figure size 432x288 with 1 Axes>"
      ]
     },
     "metadata": {
      "needs_background": "light"
     },
     "output_type": "display_data"
    }
   ],
   "source": [
    "N, K = 500, 3\n",
    "means = [[2, 2], [7, 3], [3, 6]]\n",
    "cov = [[1, 0], [0, 1]]\n",
    "\n",
    "X, original_label = generate_data(means, cov, N, K)\n",
    "kmeans_display(X, original_label)"
   ]
  },
  {
   "cell_type": "markdown",
   "id": "sZGtZzxYV6wB",
   "metadata": {
    "id": "sZGtZzxYV6wB"
   },
   "source": [
    "Các bạn cần điền vào các phần ```YOUR CODE HERE``` trong các ô dưới đây để hoàn thành thuật toán k-means clustering."
   ]
  },
  {
   "cell_type": "markdown",
   "id": "MOzgEIgWeJ-A",
   "metadata": {
    "id": "MOzgEIgWeJ-A"
   },
   "source": [
    "### Cài đặt (4đ)"
   ]
  },
  {
   "cell_type": "code",
   "execution_count": 11,
   "id": "7CXzAAx2Pt4N",
   "metadata": {
    "deletable": false,
    "executionInfo": {
     "elapsed": 729,
     "status": "ok",
     "timestamp": 1639880484812,
     "user": {
      "displayName": "Khánh Nguyễn",
      "photoUrl": "https://lh3.googleusercontent.com/a-/AOh14GhW5QOJudmqsBqdJ5x2Hfp3zqPDQQRP2FGMhp4kpg=s64",
      "userId": "03950222018643951363"
     },
     "user_tz": -420
    },
    "id": "7CXzAAx2Pt4N",
    "nbgrader": {
     "cell_type": "code",
     "checksum": "88b654673e4ab9acaae48bc99ca22ec7",
     "grade": false,
     "grade_id": "cell-02d26fb701e008ca",
     "locked": false,
     "schema_version": 3,
     "solution": true,
     "task": false
    }
   },
   "outputs": [],
   "source": [
    "# 0.5đ\n",
    "def kmeans_init_centers(X, k):\n",
    "    np.random.seed(42)\n",
    "    random_idx = np.random.randint(0, X.shape[0], k)\n",
    "    random_centers = X[random_idx, :]\n",
    "    return random_centers"
   ]
  },
  {
   "cell_type": "code",
   "execution_count": 12,
   "id": "AzcdXSEHWh5L",
   "metadata": {
    "id": "AzcdXSEHWh5L"
   },
   "outputs": [],
   "source": [
    "centers = kmeans_init_centers(X, K)\n",
    "assert centers.shape == (K, 2)"
   ]
  },
  {
   "cell_type": "code",
   "execution_count": 13,
   "id": "IHoz22FUVspR",
   "metadata": {
    "deletable": false,
    "executionInfo": {
     "elapsed": 465,
     "status": "ok",
     "timestamp": 1639880500373,
     "user": {
      "displayName": "Khánh Nguyễn",
      "photoUrl": "https://lh3.googleusercontent.com/a-/AOh14GhW5QOJudmqsBqdJ5x2Hfp3zqPDQQRP2FGMhp4kpg=s64",
      "userId": "03950222018643951363"
     },
     "user_tz": -420
    },
    "id": "IHoz22FUVspR",
    "nbgrader": {
     "cell_type": "code",
     "checksum": "94e9843cd7081e48d59f6ccb52e1dfcc",
     "grade": false,
     "grade_id": "cell-f6e050b570717c21",
     "locked": false,
     "schema_version": 3,
     "solution": true,
     "task": false
    }
   },
   "outputs": [],
   "source": [
    "# 1đ \n",
    "def kmeans_assign_labels(X, centers):\n",
    "    # calculate pairwise distances btw data and centers using cdist\n",
    "    # return index of the closest center using np.argmin\n",
    "\n",
    "    distance_matrix = cdist(X, centers)\n",
    "    labels = np.argmin(distance_matrix, axis=1)\n",
    "    return labels"
   ]
  },
  {
   "cell_type": "code",
   "execution_count": 14,
   "id": "a-PculxAXc-M",
   "metadata": {
    "id": "a-PculxAXc-M"
   },
   "outputs": [],
   "source": [
    "assigned_labels = kmeans_assign_labels(X, centers)\n",
    "assert assigned_labels.shape == (N*3, )"
   ]
  },
  {
   "cell_type": "code",
   "execution_count": 15,
   "id": "22t4pQ8wVtWH",
   "metadata": {
    "deletable": false,
    "executionInfo": {
     "elapsed": 1,
     "status": "ok",
     "timestamp": 1639880509882,
     "user": {
      "displayName": "Khánh Nguyễn",
      "photoUrl": "https://lh3.googleusercontent.com/a-/AOh14GhW5QOJudmqsBqdJ5x2Hfp3zqPDQQRP2FGMhp4kpg=s64",
      "userId": "03950222018643951363"
     },
     "user_tz": -420
    },
    "id": "22t4pQ8wVtWH",
    "nbgrader": {
     "cell_type": "code",
     "checksum": "822db51073ce59cf1c3c1a01e487f90d",
     "grade": false,
     "grade_id": "cell-29a67030b178fde0",
     "locked": false,
     "schema_version": 3,
     "solution": true,
     "task": false
    }
   },
   "outputs": [],
   "source": [
    "# 1đ \n",
    "def kmeans_update_centers(X, labels, K):\n",
    "    centers = np.zeros((K, X.shape[1]))\n",
    "    for k in range(K):\n",
    "        # All data points whose labels are k\n",
    "        X_k = X[labels == k]\n",
    "        centers[k] = np.mean(X_k, axis=0)\n",
    "    return centers"
   ]
  },
  {
   "cell_type": "code",
   "execution_count": 16,
   "id": "1seFAj_WVyRe",
   "metadata": {
    "deletable": false,
    "executionInfo": {
     "elapsed": 499,
     "status": "ok",
     "timestamp": 1639880521270,
     "user": {
      "displayName": "Khánh Nguyễn",
      "photoUrl": "https://lh3.googleusercontent.com/a-/AOh14GhW5QOJudmqsBqdJ5x2Hfp3zqPDQQRP2FGMhp4kpg=s64",
      "userId": "03950222018643951363"
     },
     "user_tz": -420
    },
    "id": "1seFAj_WVyRe",
    "nbgrader": {
     "cell_type": "code",
     "checksum": "81a03e536965535d3ee4d88b7c9c2f90",
     "grade": false,
     "grade_id": "cell-f5acd1c334d56c44",
     "locked": false,
     "schema_version": 3,
     "solution": true,
     "task": false
    }
   },
   "outputs": [],
   "source": [
    "# 0.5đ \n",
    "def has_converged(centers, new_centers):\n",
    "    # Account for floating point inaccuracy\n",
    "    distance_vec = np.abs(centers - new_centers)\n",
    "    return np.all(distance_vec < 1e-9)"
   ]
  },
  {
   "cell_type": "code",
   "execution_count": 17,
   "id": "NlmJn2FQPwSZ",
   "metadata": {
    "deletable": false,
    "id": "NlmJn2FQPwSZ",
    "nbgrader": {
     "cell_type": "code",
     "checksum": "2e9c1924da30efe0c821b2f1a800834d",
     "grade": false,
     "grade_id": "cell-c210d26f0bf63b15",
     "locked": false,
     "schema_version": 3,
     "solution": true,
     "task": false
    },
    "tags": []
   },
   "outputs": [],
   "source": [
    "# 1đ \n",
    "def kmeans(X, K):\n",
    "    # save the center coordinates of each iteration\n",
    "    centers = [kmeans_init_centers(X, K)]  \n",
    "    # save the labels of each iteration\n",
    "    labels = []\n",
    "    it = 0 \n",
    "    while True:\n",
    "        # at each iteration:\n",
    "        # 1. assign label for each points and append to labels\n",
    "        # 2. update the centers\n",
    "        # 3. check the convergence condition\n",
    "        #    and append NEW center coordinates to centers\n",
    "        # 4. update iteration \n",
    "        \n",
    "        iter_labels = kmeans_assign_labels(X, centers[-1])\n",
    "        iter_new_centers = kmeans_update_centers(X, iter_labels, K)\n",
    "        centers.append(iter_new_centers)\n",
    "        labels.append(iter_labels)\n",
    "        if it > 1 and has_converged(centers[-1], centers[-2]):\n",
    "            break\n",
    "        it += 1\n",
    "    \n",
    "    return (centers, labels, it)"
   ]
  },
  {
   "cell_type": "code",
   "execution_count": 18,
   "id": "d2qfbn_QP72d",
   "metadata": {
    "id": "d2qfbn_QP72d"
   },
   "outputs": [
    {
     "name": "stdout",
     "output_type": "stream",
     "text": [
      "Centers found by k-means algorithm after 6 iterations:\n",
      "[[1.99418176 1.99827524]\n",
      " [2.99429961 6.00518912]\n",
      " [7.08218735 3.07474629]]\n",
      "============================================================\n"
     ]
    },
    {
     "data": {
      "image/png": "[encoded data removed]",
      "text/plain": [
       "<Figure size 432x288 with 1 Axes>"
      ]
     },
     "metadata": {
      "needs_background": "light"
     },
     "output_type": "display_data"
    }
   ],
   "source": [
    "(centers, labels, it) = kmeans(X, K)\n",
    "print(f'Centers found by k-means algorithm after {it} iterations:')\n",
    "print(centers[-1])\n",
    "print('='*60)\n",
    "\n",
    "kmeans_display(X, labels[-1])"
   ]
  },
  {
   "cell_type": "markdown",
   "id": "qQMU2Nj6eMNT",
   "metadata": {
    "id": "qQMU2Nj6eMNT"
   },
   "source": [
    "### Trả lời câu hỏi (1đ)"
   ]
  },
  {
   "cell_type": "markdown",
   "id": "0oYbcHN6dAAX",
   "metadata": {
    "id": "0oYbcHN6dAAX"
   },
   "source": [
    "**Câu hỏi 2**: Bạn có nhận xét gì về kết quả của thuật toán k-means clustering với dữ liệu trên? (0.25đ)\n",
    "\n",
    "---\n",
    "\n",
    "Do data có phân phối chuẩn (dựa vào code sinh data của thầy) nên các cluster trên có dạng hình tròn, dẫn đến k-means hoạt động khá chính xác và nhanh (hội tụ chỉ sau 6 lần lặp)."
   ]
  },
  {
   "cell_type": "markdown",
   "id": "OwSHYivrejqr",
   "metadata": {
    "id": "OwSHYivrejqr"
   },
   "source": [
    "**Câu hỏi 3**: Hãy nêu điểm yếu của thuật toán k-means clustering (thuật toán có dễ bị ảnh hưởng bởi các center khởi tạo? phù hợp và không phù hợp với loại dữ liệu nào?). Bạn hãy nêu phương pháp/thuật toán thay thế có thể giải quyết các điểm yếu của thuật toán k-means clustering. (0.75đ)\n",
    "\n",
    "---\n",
    "\n",
    "K-means có thể mang các nhược điểm sau:\n",
    "\n",
    "- Hiệu năng của thuật toán có thể bị ảnh hưởng bởi việc khởi tạo các center. Ví dụ như nếu xui, ta có thể khởi tạo 2 center bị trùng nhau thì sẽ dẫn đến 2 cluster ấy cũng bị trùng nhau (lúc code em đã gặp lỗi này), hoặc trong trường hợp ta gán center cho một outlier nằm xa các điểm dữ liệu thì thuật toán sẽ hội tụ chậm hơn, hoặc có thể sẽ cho ra các cluster bị \"méo\". Có thể khắc phục bằng cách chạy k-means nhiều lần và lấy kết quả tốt nhất.\n",
    "- K-means chỉ hoạt động với các cluster có dạng hình tròn (hoặc gần tròn). Nếu các cluster của ta có dạng dẹt, hoặc \"cluster trong cluster\" thì k-means sẽ bó tay. Điều này có thể giải quyết bằng DBSCAN.\n",
    "- Cần xác định trước tham số $k$. Có thể giải quyết bằng cách chạy k-means với các $k$ khác nhau và chọn theo quy tắc khuỷu tay (elbow method)."
   ]
  }
 ],
 "metadata": {
  "colab": {
   "collapsed_sections": [],
   "name": "[Lab 03 - Data Mining] Classification & Clustering.ipynb",
   "provenance": [
    {
     "file_id": "1J1x4qE_dUH8LgPg7gLEh8H23DYDzNCki",
     "timestamp": 1639879447273
    }
   ]
  },
  "kernelspec": {
   "display_name": "Python 3 (ipykernel)",
   "language": "python",
   "name": "python3"
  },
  "language_info": {
   "codemirror_mode": {
    "name": "ipython",
    "version": 3
   },
   "file_extension": ".py",
   "mimetype": "text/x-python",
   "name": "python",
   "nbconvert_exporter": "python",
   "pygments_lexer": "ipython3",
   "version": "3.8.8"
  }
 },
 "nbformat": 4,
 "nbformat_minor": 5
}
