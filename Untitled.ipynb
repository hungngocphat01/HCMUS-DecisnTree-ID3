{
 "cells": [
  {
   "cell_type": "code",
   "execution_count": 1,
   "id": "c0330686-ef7a-4bde-bed0-7301e5437015",
   "metadata": {},
   "outputs": [],
   "source": [
    "import pandas as pd\n",
    "import seaborn as sns\n",
    "import matplotlib\n",
    "import matplotlib.pyplot as plt\n",
    "import numpy as np"
   ]
  },
  {
   "cell_type": "code",
   "execution_count": 2,
   "id": "222ad4d7-4234-448f-9385-ba03fe7a714a",
   "metadata": {},
   "outputs": [],
   "source": [
    "df = pd.read_csv('data/anime.csv')\n",
    "df.replace('Unknown', pd.NA, inplace=True)\n",
    "df.dropna(inplace=True)\n",
    "df.set_index('MAL_ID', inplace=True)"
   ]
  },
  {
   "cell_type": "code",
   "execution_count": 3,
   "id": "851608c3-6b63-438d-a849-b442c707a3da",
   "metadata": {},
   "outputs": [
    {
     "data": {
      "text/plain": [
       "Index(['Score', 'Episodes', 'Popularity', 'Members', 'Favorites', 'Watching',\n",
       "       'Completed', 'On-Hold', 'Dropped', 'Plan to Watch', 'Type'],\n",
       "      dtype='object')"
      ]
     },
     "execution_count": 3,
     "metadata": {},
     "output_type": "execute_result"
    }
   ],
   "source": [
    "df.Score = df.Score.astype(float)\n",
    "df.Episodes = df.Episodes.astype(float)\n",
    "df = pd.concat((df.select_dtypes(['int64', 'float64']), df.Type.to_frame()))\n",
    "df.columns"
   ]
  },
  {
   "cell_type": "code",
   "execution_count": 4,
   "id": "858cbe6c-e519-4493-9aa0-72b3cbac8a44",
   "metadata": {},
   "outputs": [],
   "source": [
    "# sns.pairplot(df)"
   ]
  },
  {
   "cell_type": "code",
   "execution_count": 5,
   "id": "027f92c0-381c-4cf0-85a4-46d9cd34d2af",
   "metadata": {},
   "outputs": [],
   "source": [
    "df['TotalReached'] = df.Completed + df.Watching + df['Plan to Watch'] \\\n",
    "    + df.Dropped + df['On-Hold']\n",
    "# Create percentage columns\n",
    "df['DroppedPerc'] = df.Dropped / df.TotalReached\n",
    "df['Score'] = round(df.Score * 2) / 2\n",
    "df.drop(axis=1, inplace=True, \n",
    "              labels=['Members', 'Completed', 'Dropped', 'On-Hold', 'Plan to Watch', 'Watching', 'TotalReached'])"
   ]
  },
  {
   "cell_type": "code",
   "execution_count": 6,
   "id": "b24a9dad-84ed-4d36-9cd8-4b4bc59f7733",
   "metadata": {},
   "outputs": [
    {
     "data": {
      "text/plain": [
       "<AxesSubplot:xlabel='DroppedPerc', ylabel='Score'>"
      ]
     },
     "execution_count": 6,
     "metadata": {},
     "output_type": "execute_result"
    },
    {
     "data": {
      "image/png": "[encoded data removed]",
      "text/plain": [
       "<Figure size 432x288 with 1 Axes>"
      ]
     },
     "metadata": {
      "needs_background": "light"
     },
     "output_type": "display_data"
    }
   ],
   "source": [
    "df.plot(kind='scatter', x='DroppedPerc', y='Score')"
   ]
  },
  {
   "cell_type": "code",
   "execution_count": 7,
   "id": "258e6d14-405a-4e85-9b07-a6f429c1c902",
   "metadata": {},
   "outputs": [
    {
     "data": {
      "text/html": [
       "<div>\n",
       "<style scoped>\n",
       "    .dataframe tbody tr th:only-of-type {\n",
       "        vertical-align: middle;\n",
       "    }\n",
       "\n",
       "    .dataframe tbody tr th {\n",
       "        vertical-align: top;\n",
       "    }\n",
       "\n",
       "    .dataframe thead th {\n",
       "        text-align: right;\n",
       "    }\n",
       "</style>\n",
       "<table border=\"1\" class=\"dataframe\">\n",
       "  <thead>\n",
       "    <tr style=\"text-align: right;\">\n",
       "      <th></th>\n",
       "      <th>Score</th>\n",
       "      <th>Episodes</th>\n",
       "      <th>Popularity</th>\n",
       "      <th>Favorites</th>\n",
       "      <th>DroppedPerc</th>\n",
       "    </tr>\n",
       "  </thead>\n",
       "  <tbody>\n",
       "    <tr>\n",
       "      <th>Score</th>\n",
       "      <td>1.000000</td>\n",
       "      <td>0.138783</td>\n",
       "      <td>-0.502352</td>\n",
       "      <td>0.414523</td>\n",
       "      <td>-0.658377</td>\n",
       "    </tr>\n",
       "    <tr>\n",
       "      <th>Episodes</th>\n",
       "      <td>0.138783</td>\n",
       "      <td>1.000000</td>\n",
       "      <td>0.028456</td>\n",
       "      <td>0.226414</td>\n",
       "      <td>0.142303</td>\n",
       "    </tr>\n",
       "    <tr>\n",
       "      <th>Popularity</th>\n",
       "      <td>-0.502352</td>\n",
       "      <td>0.028456</td>\n",
       "      <td>1.000000</td>\n",
       "      <td>-0.294161</td>\n",
       "      <td>0.342891</td>\n",
       "    </tr>\n",
       "    <tr>\n",
       "      <th>Favorites</th>\n",
       "      <td>0.414523</td>\n",
       "      <td>0.226414</td>\n",
       "      <td>-0.294161</td>\n",
       "      <td>1.000000</td>\n",
       "      <td>-0.203283</td>\n",
       "    </tr>\n",
       "    <tr>\n",
       "      <th>DroppedPerc</th>\n",
       "      <td>-0.658377</td>\n",
       "      <td>0.142303</td>\n",
       "      <td>0.342891</td>\n",
       "      <td>-0.203283</td>\n",
       "      <td>1.000000</td>\n",
       "    </tr>\n",
       "  </tbody>\n",
       "</table>\n",
       "</div>"
      ],
      "text/plain": [
       "                Score  Episodes  Popularity  Favorites  DroppedPerc\n",
       "Score        1.000000  0.138783   -0.502352   0.414523    -0.658377\n",
       "Episodes     0.138783  1.000000    0.028456   0.226414     0.142303\n",
       "Popularity  -0.502352  0.028456    1.000000  -0.294161     0.342891\n",
       "Favorites    0.414523  0.226414   -0.294161   1.000000    -0.203283\n",
       "DroppedPerc -0.658377  0.142303    0.342891  -0.203283     1.000000"
      ]
     },
     "execution_count": 7,
     "metadata": {},
     "output_type": "execute_result"
    }
   ],
   "source": [
    "df.corr()"
   ]
  }
 ],
 "metadata": {
  "kernelspec": {
   "display_name": "Python 3 (ipykernel)",
   "language": "python",
   "name": "python3"
  },
  "language_info": {
   "codemirror_mode": {
    "name": "ipython",
    "version": 3
   },
   "file_extension": ".py",
   "mimetype": "text/x-python",
   "name": "python",
   "nbconvert_exporter": "python",
   "pygments_lexer": "ipython3",
   "version": "3.8.8"
  }
 },
 "nbformat": 4,
 "nbformat_minor": 5
}
